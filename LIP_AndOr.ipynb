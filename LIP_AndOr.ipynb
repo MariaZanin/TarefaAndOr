{
  "nbformat": 4,
  "nbformat_minor": 0,
  "metadata": {
    "colab": {
      "provenance": [],
      "mount_file_id": "193ImKc__CvhIEMYR3du8IOtTOWLaLSfO",
      "authorship_tag": "ABX9TyO7To3fc3mhjW0i6QgWBT9L",
      "include_colab_link": true
    },
    "kernelspec": {
      "name": "python3",
      "display_name": "Python 3"
    },
    "language_info": {
      "name": "python"
    }
  },
  "cells": [
    {
      "cell_type": "markdown",
      "metadata": {
        "id": "view-in-github",
        "colab_type": "text"
      },
      "source": [
        "<a href=\"https://colab.research.google.com/github/MariaZanin/TarefaAndOr/blob/main/LIP_AndOr.ipynb\" target=\"_parent\"><img src=\"https://colab.research.google.com/assets/colab-badge.svg\" alt=\"Open In Colab\"/></a>"
      ]
    },
    {
      "cell_type": "markdown",
      "source": [
        "# **Tarefa - And e Or do professor Anderson.**"
      ],
      "metadata": {
        "id": "N3HsIp_h7rIc"
      }
    },
    {
      "cell_type": "markdown",
      "source": [
        "##*Exercício 1*\n",
        "\n",
        "\n",
        "1 -Escreva um programa que peça ao usuário inserir três números e, em seguida, determine se um dos três números é maior que a soma dos outros dois"
      ],
      "metadata": {
        "id": "uVJDqTx62puY"
      }
    },
    {
      "cell_type": "code",
      "execution_count": 7,
      "metadata": {
        "colab": {
          "base_uri": "https://localhost:8080/"
        },
        "id": "3al_mQr52NIR",
        "outputId": "6c2b29f9-04f0-411c-a6f4-bba64720b4c2"
      },
      "outputs": [
        {
          "output_type": "stream",
          "name": "stdout",
          "text": [
            "Digite o primeiro número: 10\n",
            "Digite o segundo número: 234\n",
            "Digite o terceiro número: 241321\n",
            "241321.0 é maior do que a soma de 10.0 e 234.0\n"
          ]
        }
      ],
      "source": [
        "n1 = float(input('Digite o primeiro número: '))\n",
        "n2 = float(input('Digite o segundo número: '))\n",
        "n3 = float(input('Digite o terceiro número: '))\n",
        "\n",
        "if n1 > n2 + n3:\n",
        "    print(n1, \"é maior do que a soma de\", n2, \"e\", n3)\n",
        "elif n2 > n1 + n3:\n",
        "    print(n2, \"é maior do que a soma de\", n1, \"e\", n3)\n",
        "elif n3 > n1 + n2:\n",
        "    print(n3, \"é maior do que a soma de\", n1, \"e\", n2)\n",
        "else:\n",
        "    print(\"A soma de dois números não é maior que nenhum número inserido.\")"
      ]
    },
    {
      "cell_type": "markdown",
      "source": [
        "##*Exercício 2* \n",
        "\n",
        "2 - Escreva um programa que peça ao usuário inserir duas notas (entre 0 e 100) e determine se o aluno passou ou não. Um aluno passa se a soma das notas for maior ou igual a 60 e nenhuma nota é menor que 40."
      ],
      "metadata": {
        "id": "qTUO1Qzl5fq6"
      }
    },
    {
      "cell_type": "code",
      "source": [
        "nota1 = float(input('Insira a primeira nota: '))\n",
        "nota2 = float(input('Insira a segunda nota: '))\n",
        "\n",
        "if nota1+nota2 >= 60 and nota1>40 and nota2>40:\n",
        "    print ('Aluno aprovado')\n",
        "else:\n",
        "    print ('Aluno reprovado')"
      ],
      "metadata": {
        "colab": {
          "base_uri": "https://localhost:8080/"
        },
        "id": "UARtcUVW5tA5",
        "outputId": "eadce057-70aa-4760-f228-2a669e1b6798"
      },
      "execution_count": 10,
      "outputs": [
        {
          "output_type": "stream",
          "name": "stdout",
          "text": [
            "Insira a primeira nota: 78\n",
            "Insira a segunda nota: 35\n",
            "Aluno reprovado\n"
          ]
        }
      ]
    },
    {
      "cell_type": "markdown",
      "source": [
        "##*Exercício 3*\n",
        "\n",
        "3 -Verifique se uma pessoa é maior ou igual a 18 anos ou se ela tem autorização dos pais."
      ],
      "metadata": {
        "id": "QxU8o5O77GHm"
      }
    },
    {
      "cell_type": "code",
      "source": [
        "idade = int(input('Digite a idade: '))\n",
        "autorizacao = input('Tem autorização dos pais? (sim/nao) ')\n",
        "\n",
        "if idade>=18 or autorizacao == \"sim\":\n",
        "    print ('Entrada autorizada')\n",
        "else:\n",
        "    print ('Entrada negada')\n"
      ],
      "metadata": {
        "colab": {
          "base_uri": "https://localhost:8080/"
        },
        "id": "jKVzglth8IRF",
        "outputId": "e2a3f5ae-c4d5-45d2-823f-7cd74bd1c627"
      },
      "execution_count": 14,
      "outputs": [
        {
          "output_type": "stream",
          "name": "stdout",
          "text": [
            "Digite a idade: 12\n",
            "Tem autorização dos pais? (sim/nao) nao\n",
            "Entrada negada\n"
          ]
        }
      ]
    },
    {
      "cell_type": "markdown",
      "source": [
        "##*Exercício 4*\n",
        "\n",
        "4 - Escreva um código que verifique se um número é par ou divisível por 3."
      ],
      "metadata": {
        "id": "gFnA3uzA9qW0"
      }
    },
    {
      "cell_type": "code",
      "source": [
        "numero=int(input('Digite um número: '))\n",
        "\n",
        "if numero % 2 == 0:\n",
        "    print ('Número par')\n",
        "elif numero % 3 == 0:\n",
        "    print ('Número divisível por 3.')\n",
        "else:\n",
        "    print ('Número não atende as regras')"
      ],
      "metadata": {
        "colab": {
          "base_uri": "https://localhost:8080/"
        },
        "id": "mnfD_Wk__7YY",
        "outputId": "4d3fa82e-3661-4713-cbf9-8a07c61f8fdc"
      },
      "execution_count": 29,
      "outputs": [
        {
          "output_type": "stream",
          "name": "stdout",
          "text": [
            "Digite um número: 33\n",
            "Número divisível por 3.\n"
          ]
        }
      ]
    },
    {
      "cell_type": "markdown",
      "source": [
        "## Exercício 5\n",
        "\n",
        "5 -Escreva um código que verifique se uma pessoa é alfabetizada (sabe ler e escrever) e tem mais de 25 anos de idade."
      ],
      "metadata": {
        "id": "l8OO47dFAZNL"
      }
    },
    {
      "cell_type": "code",
      "source": [
        "idade = int(input('Digite sua idade: '))\n",
        "abc = input('Sabe ler e escrever? (sim/nao) ')\n",
        "\n",
        "if idade>=25 and abc == 'sim':\n",
        "    print ('Alfabetizado e maior de 25 anos')\n",
        "else:\n",
        "    print ('Fora dos parametros')"
      ],
      "metadata": {
        "colab": {
          "base_uri": "https://localhost:8080/"
        },
        "id": "XbdiUHs8Ah1b",
        "outputId": "730bcf09-9c6b-48dd-e9f5-9b71d44f4e4b"
      },
      "execution_count": 33,
      "outputs": [
        {
          "output_type": "stream",
          "name": "stdout",
          "text": [
            "Digite sua idade: 25\n",
            "Sabe ler e escrever? (sim/nao) sim\n",
            "Alfabetizado e maior de 25 anos\n"
          ]
        }
      ]
    },
    {
      "cell_type": "markdown",
      "source": [
        "## Exercício 6\n",
        "\n",
        "6 - Criar um programa que verifica se uma pessoa tem desconto em um produto, baseado na idade e sua categoria (estudante, aposentado, etc.) e no dia da semana. (Use quantas categorias desejar)"
      ],
      "metadata": {
        "id": "XlqOogtKBX6G"
      }
    },
    {
      "cell_type": "code",
      "source": [
        "idade = int(input('Insira sua idade: '))\n",
        "categoria = input('Insira sua categoria: ')\n",
        "dia_semana = input('Insira o dia da semana: ')\n",
        "\n",
        "if idade>=60 or categoria == 'aposentado':\n",
        "    print ('Desconto concedido')\n",
        "elif categoria == 'estudante':\n",
        "    print ('Desconto concedido')\n",
        "elif dia_semana == 'segunda' or dia_semana == 'terça':\n",
        "    print ('Desconto concedido')\n",
        "\n",
        "else:\n",
        "    print ('Desconto negado')"
      ],
      "metadata": {
        "colab": {
          "base_uri": "https://localhost:8080/"
        },
        "id": "0nwg16nTBoie",
        "outputId": "64ae07d3-2c52-4816-f551-b08d77afd325"
      },
      "execution_count": 42,
      "outputs": [
        {
          "output_type": "stream",
          "name": "stdout",
          "text": [
            "Insira sua idade: 21\n",
            "Insira sua categoria: jogador\n",
            "Insira o dia da semana: segunda\n",
            "Desconto concedido\n"
          ]
        }
      ]
    }
  ]
}